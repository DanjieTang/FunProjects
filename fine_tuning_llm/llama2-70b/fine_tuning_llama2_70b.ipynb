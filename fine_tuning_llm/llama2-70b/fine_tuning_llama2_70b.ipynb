{
 "cells": [
  {
   "cell_type": "code",
   "execution_count": null,
   "id": "bba00196-bdb6-4df7-b2fb-7a933b833d20",
   "metadata": {},
   "outputs": [],
   "source": [
    "!pip install transformers\n",
    "!pip install accelerate\n",
    "!pip install bitsandbytes\n",
    "!pip install peft\n",
    "!pip install datasets\n",
    "!pip install tqdm"
   ]
  },
  {
   "cell_type": "code",
   "execution_count": null,
   "id": "bc3e4722-8fa7-4da0-8ed1-04e36f99ce0a",
   "metadata": {},
   "outputs": [],
   "source": [
    "import torch\n",
    "from tqdm import tqdm\n",
    "from datasets import load_dataset\n",
    "from transformers import AutoTokenizer, AutoModelForCausalLM, DataCollatorForLanguageModeling, Trainer, TrainingArguments, BitsAndBytesConfig\n",
    "from peft import LoraConfig, get_peft_model, prepare_model_for_kbit_training\n",
    "from huggingface_hub import notebook_login"
   ]
  },
  {
   "cell_type": "markdown",
   "id": "d74c93bd-8209-4800-87e7-b606b0428312",
   "metadata": {},
   "source": [
    "# Preprocessing"
   ]
  },
  {
   "cell_type": "code",
   "execution_count": null,
   "id": "ce7845fc-b6fd-4510-a578-b62228d05dea",
   "metadata": {},
   "outputs": [],
   "source": [
    "notebook_login()"
   ]
  },
  {
   "cell_type": "code",
   "execution_count": null,
   "id": "e2977e20-46da-4ab7-abc9-b38bd35b9819",
   "metadata": {},
   "outputs": [],
   "source": [
    "model_name = \"meta-llama/Llama-2-70b-chat-hf\"\n",
    "device = torch.device(\"cuda\" if torch.cuda.is_available() else \"cpu\")\n",
    "max_token = 64"
   ]
  },
  {
   "cell_type": "code",
   "execution_count": null,
   "id": "fe160ccb-4756-4f31-b93c-d6e94dd838e2",
   "metadata": {},
   "outputs": [],
   "source": [
    "# Instantiate the tokenizer\n",
    "tokenizer = AutoTokenizer.from_pretrained(model_name, use_fast=True)\n",
    "tokenizer.add_special_tokens({'pad_token': '[PAD]'}) # gpt2 does not have default padding token\n",
    "data_collator = DataCollatorForLanguageModeling(tokenizer, mlm=False)"
   ]
  },
  {
   "cell_type": "code",
   "execution_count": null,
   "id": "b96fe866-8eff-42b9-b3a1-c0ce3d203a15",
   "metadata": {},
   "outputs": [],
   "source": [
    "# Tokenization functions\n",
    "def dialog_to_string(dialog: list[str]) -> str:\n",
    "    formatted_dialogue = '<User> '+dialog[0]+'\\n<Assistant> '+dialog[1] + \"<|endoftext|>\"\n",
    "    return formatted_dialogue\n",
    "\n",
    "def tokenize_function(row):\n",
    "    row[\"dialog\"] = dialog_to_string(row[\"dialog\"])\n",
    "    return tokenizer(row[\"dialog\"], max_length=max_token, truncation=True)"
   ]
  },
  {
   "cell_type": "code",
   "execution_count": null,
   "id": "372d96f2-d8a8-4401-92c7-5ef5bd6f372f",
   "metadata": {},
   "outputs": [],
   "source": [
    "# Load and tokenize dataset\n",
    "dataset = load_dataset(\"daily_dialog\")\n",
    "dataset = dataset.map(tokenize_function)"
   ]
  },
  {
   "cell_type": "markdown",
   "id": "a7226378-e3b4-4c7e-9504-ee600cedec33",
   "metadata": {},
   "source": [
    "# Load model and preparing for training"
   ]
  },
  {
   "cell_type": "code",
   "execution_count": null,
   "id": "30f30b8b-63e5-4d43-b920-a6a24b334c63",
   "metadata": {},
   "outputs": [],
   "source": [
    "bnb_config = BitsAndBytesConfig(\n",
    "    load_in_4bit=True,\n",
    "    bnb_4bit_use_double_quant=True,\n",
    "    bnb_4bit_quant_type=\"nf4\",\n",
    "    bnb_4bit_compute_dtype=torch.bfloat16\n",
    ")\n",
    "\n",
    "model = AutoModelForCausalLM.from_pretrained(model_name, device_map=\"auto\", quantization_config=bnb_config)\n",
    "model.resize_token_embeddings(len(tokenizer))\n",
    "model = prepare_model_for_kbit_training(model)"
   ]
  },
  {
   "cell_type": "code",
   "execution_count": null,
   "id": "088adf8f-6ab3-41dc-860a-a999b7445ff3",
   "metadata": {},
   "outputs": [],
   "source": [
    "# LORA config\n",
    "config = LoraConfig(\n",
    "    r=16, #attention heads\n",
    "    lora_alpha=32, #alpha scaling\n",
    "    lora_dropout=0.1,\n",
    "    bias=\"none\",\n",
    "    task_type=\"CAUSAL_LM\",\n",
    ")\n",
    "\n",
    "model = get_peft_model(model, config)"
   ]
  },
  {
   "cell_type": "markdown",
   "id": "604b9ad5-25e4-4363-9f19-97406286e9f7",
   "metadata": {},
   "source": [
    "# Training"
   ]
  },
  {
   "cell_type": "code",
   "execution_count": null,
   "id": "06f31f65-491a-4beb-a98e-0893bc697edf",
   "metadata": {},
   "outputs": [],
   "source": [
    "training_args = TrainingArguments(\n",
    "    output_dir=\"output_dir\",\n",
    "    per_device_train_batch_size=200,\n",
    "    gradient_accumulation_steps=5,\n",
    "    num_train_epochs=15,\n",
    "    learning_rate=2e-4,\n",
    "    evaluation_strategy=\"epoch\",\n",
    "    warmup_steps=50,\n",
    "    weight_decay=1e-3,\n",
    "    optim=\"paged_adamw_8bit\",\n",
    "    lr_scheduler_type=\"cosine\",\n",
    ")\n",
    "\n",
    "trainer = Trainer(\n",
    "    model=model,\n",
    "    train_dataset=dataset[\"train\"],\n",
    "    eval_dataset=dataset[\"validation\"],\n",
    "    args=training_args,\n",
    "    data_collator=data_collator,\n",
    "    tokenizer=tokenizer\n",
    ")\n",
    "trainer.train()"
   ]
  },
  {
   "cell_type": "markdown",
   "id": "1224b2bd-fc86-4a32-a7a1-1954bf4b3e91",
   "metadata": {},
   "source": [
    "# Inference"
   ]
  },
  {
   "cell_type": "code",
   "execution_count": null,
   "id": "2a7e2830-fcef-42ff-a619-c376409a65d9",
   "metadata": {},
   "outputs": [],
   "source": [
    "def talk_with_llm(tweet: str) -> str:\n",
    "    # Encode and move tensor into cuda if applicable.\n",
    "    encoded_input = tokenizer(tweet, return_tensors='pt')\n",
    "    encoded_input = {k: v.to(device) for k, v in encoded_input.items()}\n",
    "\n",
    "    output = model.generate(**encoded_input, max_new_tokens=256)\n",
    "    response = tokenizer.decode(output[0], skip_special_tokens=True)\n",
    "    return response"
   ]
  },
  {
   "cell_type": "code",
   "execution_count": null,
   "id": "1238ec18-a63d-4d64-982a-f1d8740b4358",
   "metadata": {},
   "outputs": [],
   "source": [
    "talk_with_llm(\"Hello\")"
   ]
  }
 ],
 "metadata": {
  "kernelspec": {
   "display_name": "Python 3 (ipykernel)",
   "language": "python",
   "name": "python3"
  },
  "language_info": {
   "codemirror_mode": {
    "name": "ipython",
    "version": 3
   },
   "file_extension": ".py",
   "mimetype": "text/x-python",
   "name": "python",
   "nbconvert_exporter": "python",
   "pygments_lexer": "ipython3",
   "version": "3.10.13"
  }
 },
 "nbformat": 4,
 "nbformat_minor": 5
}
