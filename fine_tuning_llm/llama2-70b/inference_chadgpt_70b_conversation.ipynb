{
 "cells": [
  {
   "cell_type": "markdown",
   "metadata": {
    "id": "WbEc_OReOYvs"
   },
   "source": [
    "## Update  1/14/2023\n",
    "1. Execute the code cell below.\n",
    "2. After running the cell, restart your session.\n",
    "- **Reason:** Currently, a session restart is required for the model download. This might be a bug and could be patched in future releases.\n"
   ]
  },
  {
   "cell_type": "code",
   "execution_count": null,
   "metadata": {
    "id": "SuB3omCpN4LI"
   },
   "outputs": [],
   "source": [
    "!pip install peft\n",
    "!pip install transformers\n",
    "!pip install bitsandbytes\n",
    "!pip install accelerate"
   ]
  },
  {
   "cell_type": "markdown",
   "metadata": {
    "id": "d5nI7d0UPGWa"
   },
   "source": [
    "### You need a huggingface account that has access to llama2"
   ]
  },
  {
   "cell_type": "code",
   "execution_count": null,
   "metadata": {
    "id": "gATsBpLxOBNa"
   },
   "outputs": [],
   "source": [
    "from huggingface_hub import notebook_login\n",
    "notebook_login()"
   ]
  },
  {
   "cell_type": "code",
   "execution_count": 2,
   "metadata": {
    "id": "7tRROv9aONEU"
   },
   "outputs": [
    {
     "data": {
      "application/vnd.jupyter.widget-view+json": {
       "model_id": "d2037a5ff53e48cc9566d179c65679bb",
       "version_major": 2,
       "version_minor": 0
      },
      "text/plain": [
       "Loading checkpoint shards:   0%|          | 0/15 [00:00<?, ?it/s]"
      ]
     },
     "metadata": {},
     "output_type": "display_data"
    }
   ],
   "source": [
    "import torch\n",
    "from peft import PeftModel, PeftConfig\n",
    "from transformers import AutoModelForCausalLM, AutoTokenizer, BitsAndBytesConfig\n",
    "device = \"cuda\" if torch.cuda.is_available() else \"cpu\"\n",
    "\n",
    "bnb_config = BitsAndBytesConfig(\n",
    "    load_in_4bit=True,\n",
    "    bnb_4bit_use_double_quant=True,\n",
    "    bnb_4bit_quant_type=\"nf4\",\n",
    "    bnb_4bit_compute_dtype=torch.bfloat16\n",
    ")\n",
    "\n",
    "peft_model_id = \"danjie/Chadgpt-Llama2-70b-conversation\"\n",
    "config = PeftConfig.from_pretrained(peft_model_id)\n",
    "model = AutoModelForCausalLM.from_pretrained(config.base_model_name_or_path, device_map='auto', quantization_config=bnb_config)\n",
    "tokenizer = AutoTokenizer.from_pretrained(config.base_model_name_or_path)\n",
    "\n",
    "# Load the Lora model\n",
    "model = PeftModel.from_pretrained(model, peft_model_id)"
   ]
  },
  {
   "cell_type": "code",
   "execution_count": 7,
   "metadata": {
    "id": "ZBKoiY38OPwI"
   },
   "outputs": [],
   "source": [
    "## Run this cell to start a new conversation\n",
    "conversation_history = []\n",
    "\n",
    "def format_conversation(conversation: list[str]) -> str:\n",
    "    formatted_conversation = \"\"\n",
    "\n",
    "    # Check if the conversation has more than two turns\n",
    "    if len(conversation) > 2:\n",
    "        # Process all but the last two turns\n",
    "        for i in range(len(conversation) - 2):\n",
    "            if i % 2 == 0:\n",
    "                formatted_conversation += \"<Past User>\" + conversation[i] + \"\\n\"\n",
    "            else:\n",
    "                formatted_conversation += \"<Past Assistant>\" + conversation[i] + \"\\n\"\n",
    "\n",
    "    # Process the last two turns\n",
    "    if len(conversation) >= 2:\n",
    "        formatted_conversation += \"<User>\" + conversation[-2] + \"\\n\"\n",
    "        formatted_conversation += \"<Assistant>\" + conversation[-1]\n",
    "\n",
    "    return formatted_conversation\n",
    "\n",
    "def talk_with_llm(chat: str) -> str:\n",
    "    # Encode and move tensor into cuda if applicable.\n",
    "    conversation_history.append(chat)\n",
    "    conversation_history.append(\"\")\n",
    "    conversation = format_conversation(conversation_history)\n",
    "\n",
    "    encoded_input = tokenizer(conversation, return_tensors='pt')\n",
    "    encoded_input = {k: v.to(device) for k, v in encoded_input.items()}\n",
    "\n",
    "    output = model.generate(**encoded_input, max_new_tokens=256)\n",
    "    response = tokenizer.decode(output[0], skip_special_tokens=True)\n",
    "    response = response[len(conversation):]\n",
    "\n",
    "    conversation_history.pop()\n",
    "    conversation_history.append(response)\n",
    "    return response"
   ]
  },
  {
   "cell_type": "markdown",
   "metadata": {
    "id": "9ugYLJC9PKu8"
   },
   "source": [
    "### Talk to llm"
   ]
  },
  {
   "cell_type": "code",
   "execution_count": 12,
   "metadata": {},
   "outputs": [],
   "source": [
    "## Run this cell to start a new conversation\n",
    "conversation_history = []"
   ]
  },
  {
   "cell_type": "code",
   "execution_count": 13,
   "metadata": {
    "id": "toIhhUnhPLba"
   },
   "outputs": [
    {
     "data": {
      "text/plain": [
       "' No problem . '"
      ]
     },
     "execution_count": 13,
     "metadata": {},
     "output_type": "execute_result"
    }
   ],
   "source": [
    "talk_with_llm(\"Hey buddy, could you please pick up some milk on your way home this evening?\")"
   ]
  }
 ],
 "metadata": {
  "accelerator": "GPU",
  "colab": {
   "gpuType": "A100",
   "machine_shape": "hm",
   "provenance": []
  },
  "kernelspec": {
   "display_name": "Python 3 (ipykernel)",
   "language": "python",
   "name": "python3"
  },
  "language_info": {
   "codemirror_mode": {
    "name": "ipython",
    "version": 3
   },
   "file_extension": ".py",
   "mimetype": "text/x-python",
   "name": "python",
   "nbconvert_exporter": "python",
   "pygments_lexer": "ipython3",
   "version": "3.10.13"
  }
 },
 "nbformat": 4,
 "nbformat_minor": 4
}
