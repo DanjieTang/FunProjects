{
  "cells": [
    {
      "cell_type": "code",
      "execution_count": null,
      "metadata": {
        "id": "FCiLY8LulzfM"
      },
      "outputs": [],
      "source": [
        "!pip install -U bitsandbytes\n",
        "!pip install -U transformers\n",
        "!pip install -U accelerate\n",
        "!pip install -U loralib\n",
        "!pip install -U torch\n",
        "!pip install -U datasets\n",
        "!pip install -q git+https://github.com/huggingface/peft.git # This is to import PEFT\n",
        "!pip install -U scipy"
      ]
    },
    {
      "cell_type": "code",
      "execution_count": null,
      "metadata": {
        "id": "6dsoiXUUml0I"
      },
      "outputs": [],
      "source": [
        "from huggingface_hub import notebook_login\n",
        "from transformers import AutoTokenizer, AutoModelForCausalLM, DataCollatorForLanguageModeling, Trainer, TrainingArguments\n",
        "import torch\n",
        "import torch.nn as nn\n",
        "from datasets import load_dataset\n",
        "from peft import LoraConfig, get_peft_model, prepare_model_for_kbit_training"
      ]
    },
    {
      "cell_type": "code",
      "execution_count": null,
      "metadata": {
        "id": "1u196njLoRRS"
      },
      "outputs": [],
      "source": [
        "model_name = \"meta-llama/Llama-2-7b-chat-hf\"\n",
        "device = torch.device(\"cuda\" if torch.cuda.is_available() else \"cpu\")\n",
        "max_token = 64"
      ]
    },
    {
      "cell_type": "markdown",
      "metadata": {
        "id": "aAwd_AEBmcKe"
      },
      "source": [
        "## Huggingface Login"
      ]
    },
    {
      "cell_type": "code",
      "execution_count": null,
      "metadata": {
        "id": "OUV9-hMWl6LL"
      },
      "outputs": [],
      "source": [
        "# You need a huggingface token that can access llama2\n",
        "notebook_login()"
      ]
    },
    {
      "cell_type": "markdown",
      "metadata": {
        "id": "tjYEDN3VoEew"
      },
      "source": [
        "## Data preprocessing"
      ]
    },
    {
      "cell_type": "code",
      "execution_count": null,
      "metadata": {
        "id": "fpcPtMD-oGQm"
      },
      "outputs": [],
      "source": [
        "# Instantiate the tokenizer\n",
        "tokenizer = AutoTokenizer.from_pretrained(model_name)\n",
        "tokenizer.add_special_tokens({'pad_token': '[PAD]'}) # LLAMA2 does not have default padding token\n",
        "data_collator = DataCollatorForLanguageModeling(tokenizer, mlm=False)"
      ]
    },
    {
      "cell_type": "code",
      "execution_count": null,
      "metadata": {
        "id": "qdrqNdE7pVNe"
      },
      "outputs": [],
      "source": [
        "# Tokenization functions\n",
        "def dialog_to_string(dialog: list[str]) -> str:\n",
        "    formatted_dialogue = '<User> '+dialog[0]+'\\n<Assistant> '+dialog[1] + \"</s>\"\n",
        "    return formatted_dialogue\n",
        "\n",
        "def tokenize_function(row):\n",
        "    row[\"dialog\"] = dialog_to_string(row[\"dialog\"])\n",
        "    return tokenizer(row[\"dialog\"], max_length=max_token, truncation=True)\n",
        "\n",
        "def is_shorter_than_max_token(row):\n",
        "    \"\"\"\n",
        "    Return if a given row has more than max_token number of tokens\n",
        "    \"\"\"\n",
        "    return len(row['input_ids']) <= max_token"
      ]
    },
    {
      "cell_type": "code",
      "execution_count": null,
      "metadata": {
        "id": "fxxO03Zfpi4w"
      },
      "outputs": [],
      "source": [
        "# Load and tokenize dataset\n",
        "dataset = load_dataset(\"daily_dialog\")\n",
        "dataset = dataset.map(tokenize_function)\n",
        "\n",
        "# Filter the dataset\n",
        "dataset = dataset.filter(is_shorter_than_max_token)"
      ]
    },
    {
      "cell_type": "markdown",
      "metadata": {
        "id": "wxT8aP-Zps6Y"
      },
      "source": [
        "## Training"
      ]
    },
    {
      "cell_type": "code",
      "execution_count": null,
      "metadata": {
        "id": "DepWFDgOqfB1"
      },
      "outputs": [],
      "source": [
        "class FP32Output(nn.Sequential):\n",
        "    def __init__(self, model: nn.Sequential):\n",
        "        super().__init__(model)\n",
        "\n",
        "    def forward(self, tensor: torch.Tensor):\n",
        "        return super().forward(tensor).to(torch.float32)"
      ]
    },
    {
      "cell_type": "code",
      "execution_count": null,
      "metadata": {
        "id": "5l4p9sQfq0vV"
      },
      "outputs": [],
      "source": [
        "# Instantiate the model\n",
        "model = AutoModelForCausalLM.from_pretrained(model_name, load_in_8bit=True, device_map='auto', use_cache=False)\n",
        "model.resize_token_embeddings(len(tokenizer))\n",
        "model = prepare_model_for_kbit_training(model) # Freeze the weight of the model and some floating point changes.\n",
        "model.gradient_checkpointing_enable()\n",
        "model.enable_input_require_grads()\n",
        "model.lm_head = FP32Output(model.lm_head) # Change to fp32 for more stable back propagation."
      ]
    },
    {
      "cell_type": "code",
      "execution_count": null,
      "metadata": {
        "id": "mwgQh_ZxykXi"
      },
      "outputs": [],
      "source": [
        "# LORA config\n",
        "config = LoraConfig(\n",
        "    r=16, #attention heads\n",
        "    lora_alpha=32, #alpha scaling\n",
        "    lora_dropout=0.05,\n",
        "    bias=\"none\",\n",
        "    task_type=\"CAUSAL_LM\"\n",
        ")\n",
        "\n",
        "model = get_peft_model(model, config)"
      ]
    },
    {
      "cell_type": "code",
      "execution_count": null,
      "metadata": {
        "id": "vxyMevltzguD"
      },
      "outputs": [],
      "source": [
        "training_args = TrainingArguments(\n",
        "    output_dir=\"output_dir\",\n",
        "    per_device_train_batch_size=100,\n",
        "    gradient_accumulation_steps=10,\n",
        "    num_train_epochs=15,\n",
        "    learning_rate=2e-4,\n",
        "    evaluation_strategy=\"epoch\",\n",
        "    warmup_steps=150,\n",
        "    weight_decay=1e-3,\n",
        "    optim=\"paged_adamw_8bit\",\n",
        "    lr_scheduler_type=\"cosine\",\n",
        ")\n",
        "\n",
        "trainer = Trainer(\n",
        "    model=model,\n",
        "    train_dataset=dataset[\"train\"],\n",
        "    eval_dataset=dataset[\"validation\"],\n",
        "    args=training_args,\n",
        "    data_collator=data_collator,\n",
        "    tokenizer=tokenizer\n",
        ")\n",
        "trainer.train()"
      ]
    },
    {
      "cell_type": "code",
      "execution_count": null,
      "metadata": {
        "id": "BlB26iZlyC7i"
      },
      "outputs": [],
      "source": [
        "def talk_with_llm(tweet: str) -> str:\n",
        "    # Encode and move tensor into cuda if applicable.\n",
        "    encoded_input = tokenizer(tweet, return_tensors='pt')\n",
        "    encoded_input = {k: v.to(device) for k, v in encoded_input.items()}\n",
        "\n",
        "    output = model.generate(**encoded_input, max_new_tokens=256)\n",
        "    response = tokenizer.decode(output[0], skip_special_tokens=True)\n",
        "    return response"
      ]
    },
    {
      "cell_type": "code",
      "execution_count": null,
      "metadata": {
        "id": "cG8eVH0EyC7j"
      },
      "outputs": [],
      "source": [
        "talk_with_llm(\"<User> Yo, what's up \\n<Assistant>\")"
      ]
    },
    {
      "cell_type": "markdown",
      "metadata": {
        "id": "vfZ0bFhqyC7k"
      },
      "source": [
        "## Push the model to Huggingface"
      ]
    },
    {
      "cell_type": "code",
      "execution_count": null,
      "metadata": {
        "id": "cH4Tx5IsyC7l"
      },
      "outputs": [],
      "source": [
        "model.push_to_hub(\"danjie/Chadgpt-Llama2-7b\", commit_message=\"first draft\", private=False)"
      ]
    },
    {
      "cell_type": "markdown",
      "metadata": {
        "id": "tzO_Ga6NyC7n"
      },
      "source": [
        "## Load the model from Huggingface"
      ]
    },
    {
      "cell_type": "code",
      "execution_count": null,
      "metadata": {
        "id": "6PBWCO-cyC7o"
      },
      "outputs": [],
      "source": [
        "import torch\n",
        "from peft import PeftModel, PeftConfig\n",
        "from transformers import AutoModelForCausalLM, AutoTokenizer\n",
        "\n",
        "peft_model_id = \"danjie/Chadgpt-Llama2-7b\"\n",
        "config = PeftConfig.from_pretrained(peft_model_id)\n",
        "model = AutoModelForCausalLM.from_pretrained(config.base_model_name_or_path, return_dict=True, load_in_8bit=True, device_map='auto')\n",
        "tokenizer = AutoTokenizer.from_pretrained(config.base_model_name_or_path)\n",
        "\n",
        "# Load the Lora model\n",
        "model = PeftModel.from_pretrained(model, peft_model_id)"
      ]
    }
  ],
  "metadata": {
    "accelerator": "GPU",
    "colab": {
      "gpuType": "A100",
      "provenance": [],
      "machine_shape": "hm"
    },
    "kernelspec": {
      "display_name": "Python 3",
      "name": "python3"
    },
    "language_info": {
      "codemirror_mode": {
        "name": "ipython",
        "version": 3
      },
      "file_extension": ".py",
      "mimetype": "text/x-python",
      "name": "python",
      "nbconvert_exporter": "python",
      "pygments_lexer": "ipython3",
      "version": "3.10.13"
    }
  },
  "nbformat": 4,
  "nbformat_minor": 0
}