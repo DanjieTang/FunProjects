{
  "nbformat": 4,
  "nbformat_minor": 0,
  "metadata": {
    "colab": {
      "provenance": [],
      "machine_shape": "hm",
      "gpuType": "A100"
    },
    "kernelspec": {
      "name": "python3",
      "display_name": "Python 3"
    },
    "language_info": {
      "name": "python"
    },
    "accelerator": "GPU"
  },
  "cells": [
    {
      "cell_type": "markdown",
      "source": [
        "## Update  1/14/2023\n",
        "1. Execute the code cell below.\n",
        "2. After running the cell, restart your session.\n",
        "- **Reason:** Currently, a session restart is required for the model download. This might be a bug and could be patched in future releases.\n"
      ],
      "metadata": {
        "id": "MVF2x4_uXlGc"
      }
    },
    {
      "cell_type": "code",
      "source": [
        "!pip install peft\n",
        "!pip install transformers\n",
        "!pip install bitsandbytes\n",
        "!pip install accelerate"
      ],
      "metadata": {
        "id": "ZVYkls7xXlqH"
      },
      "execution_count": null,
      "outputs": []
    },
    {
      "cell_type": "markdown",
      "source": [
        "### You need a huggingface account that has access to llama2"
      ],
      "metadata": {
        "id": "CzFpU58LXm1p"
      }
    },
    {
      "cell_type": "code",
      "source": [
        "from huggingface_hub import notebook_login\n",
        "notebook_login()"
      ],
      "metadata": {
        "id": "xsze86HcXp0y"
      },
      "execution_count": null,
      "outputs": []
    },
    {
      "cell_type": "code",
      "source": [
        "import torch\n",
        "from peft import PeftModel, PeftConfig\n",
        "from transformers import AutoModelForCausalLM, AutoTokenizer, BitsAndBytesConfig\n",
        "device = \"cuda\" if torch.cuda.is_available() else \"cpu\"\n",
        "\n",
        "bnb_config = BitsAndBytesConfig(\n",
        "    load_in_4bit=True,\n",
        "    bnb_4bit_use_double_quant=True,\n",
        "    bnb_4bit_quant_type=\"nf4\",\n",
        "    bnb_4bit_compute_dtype=torch.bfloat16\n",
        ")\n",
        "\n",
        "peft_model_id = \"danjie/Chadgpt-Llama2-70b-conversation\"\n",
        "config = PeftConfig.from_pretrained(peft_model_id)\n",
        "model = AutoModelForCausalLM.from_pretrained(config.base_model_name_or_path, device_map='cuda', quantization_config=bnb_config)\n",
        "tokenizer = AutoTokenizer.from_pretrained(config.base_model_name_or_path)\n",
        "\n",
        "# Load the Lora model\n",
        "model = PeftModel.from_pretrained(model, peft_model_id)"
      ],
      "metadata": {
        "id": "pJSBoomjXq99"
      },
      "execution_count": null,
      "outputs": []
    },
    {
      "cell_type": "code",
      "source": [
        "## Run this cell to start a new conversation\n",
        "conversation_history = []\n",
        "\n",
        "def format_conversation(conversation: list[str]) -> str:\n",
        "    formatted_conversation = \"\"\n",
        "\n",
        "    # Check if the conversation has more than two turns\n",
        "    if len(conversation) > 2:\n",
        "        # Process all but the last two turns\n",
        "        for i in range(len(conversation) - 2):\n",
        "            if i % 2 == 0:\n",
        "                formatted_conversation += \"<Past User>\" + conversation[i] + \"\\n\"\n",
        "            else:\n",
        "                formatted_conversation += \"<Past Assistant>\" + conversation[i] + \"\\n\"\n",
        "\n",
        "    # Process the last two turns\n",
        "    if len(conversation) >= 2:\n",
        "        formatted_conversation += \"<User>\" + conversation[-2] + \"\\n\"\n",
        "        formatted_conversation += \"<Assistant>\" + conversation[-1]\n",
        "\n",
        "    return formatted_conversation\n",
        "\n",
        "def talk_with_llm(chat: str) -> str:\n",
        "    # Encode and move tensor into cuda if applicable.\n",
        "    conversation_history.append(chat)\n",
        "    conversation_history.append(\"\")\n",
        "    conversation = format_conversation(conversation_history)\n",
        "\n",
        "    encoded_input = tokenizer(conversation, return_tensors='pt')\n",
        "    encoded_input = {k: v.to(device) for k, v in encoded_input.items()}\n",
        "\n",
        "    output = model.generate(**encoded_input, max_new_tokens=256)\n",
        "    response = tokenizer.decode(output[0], skip_special_tokens=True)\n",
        "    response = response[len(conversation):]\n",
        "\n",
        "    conversation_history.pop()\n",
        "    conversation_history.append(response)\n",
        "    return response"
      ],
      "metadata": {
        "id": "xq58zb2xXsXC"
      },
      "execution_count": null,
      "outputs": []
    },
    {
      "cell_type": "markdown",
      "source": [
        "### Talk to llm"
      ],
      "metadata": {
        "id": "nOZQMDRcXt2E"
      }
    },
    {
      "cell_type": "code",
      "source": [
        "## Run this cell to start a new conversation\n",
        "conversation_history = []"
      ],
      "metadata": {
        "id": "uhxIIsw8XvFP"
      },
      "execution_count": null,
      "outputs": []
    },
    {
      "cell_type": "markdown",
      "source": [
        "## Update  1/14/2023\n",
        "If you see an error saying nan or inf is in probability prediction, restart and try again"
      ],
      "metadata": {
        "id": "d9DTGiVNeNTt"
      }
    },
    {
      "cell_type": "code",
      "source": [
        "talk_with_llm(\"Hey buddy, could you please pick up some milk on your way home this evening?\")"
      ],
      "metadata": {
        "id": "8jNYpQ0BXwoN"
      },
      "execution_count": null,
      "outputs": []
    }
  ]
}